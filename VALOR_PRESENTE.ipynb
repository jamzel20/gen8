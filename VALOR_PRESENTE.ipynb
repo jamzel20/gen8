{
  "nbformat": 4,
  "nbformat_minor": 0,
  "metadata": {
    "colab": {
      "provenance": [],
      "toc_visible": true,
      "authorship_tag": "ABX9TyPs7Q12hXUkwY9lQz+FGZ4E",
      "include_colab_link": true
    },
    "kernelspec": {
      "name": "python3",
      "display_name": "Python 3"
    },
    "language_info": {
      "name": "python"
    }
  },
  "cells": [
    {
      "cell_type": "markdown",
      "metadata": {
        "id": "view-in-github",
        "colab_type": "text"
      },
      "source": [
        "<a href=\"https://colab.research.google.com/github/jamzel20/gen8/blob/main/VALOR_PRESENTE.ipynb\" target=\"_parent\"><img src=\"https://colab.research.google.com/assets/colab-badge.svg\" alt=\"Open In Colab\"/></a>"
      ]
    },
    {
      "cell_type": "markdown",
      "source": [
        "##EJERCICIO 1\n",
        "1)\tUn proyecto promete los siguientes flujos de caja al final de cada uno de los 4 años de su vida: 100, 300, 200, 200. ¿Cuál es el valor presente de los flujos de caja esperados del proyecto, si el costo de capital de la empresa aplicable para este tipo de proyectos es de 14% anual?"
      ],
      "metadata": {
        "id": "U80BVveew6M2"
      }
    },
    {
      "cell_type": "markdown",
      "source": [
        "###Calculadora de Valor Presente"
      ],
      "metadata": {
        "id": "FIxFyCh1ATNQ"
      }
    },
    {
      "cell_type": "code",
      "source": [
        "import pandas as pd\n",
        "\n",
        "def calcular_valor_presente():\n",
        "    # Inicializar las listas\n",
        "    fc = []\n",
        "    n = []\n",
        "\n",
        "    # Solicitar al usuario si los flujos son constantes\n",
        "    flujos_constantes = input(\"¿Los flujos son constantes? (s/n): \")\n",
        "    flujos_constantes = flujos_constantes.lower()\n",
        "\n",
        "    if flujos_constantes == \"s\":\n",
        "        # Solicitar al usuario el valor del flujo constante\n",
        "        valor_fc = float(input(\"Ingrese el valor del flujo constante: \"))\n",
        "\n",
        "        # Solicitar al usuario el número de valores a ingresar\n",
        "        num_valores = int(input(\"¿Cuántos valores de t desea ingresar?: \"))\n",
        "\n",
        "        # Solicitar al usuario el valor de n\n",
        "        for i in range(num_valores):\n",
        "            valor_n = int(input(\"Ingrese el número de períodos (t): \"))\n",
        "            n.append(valor_n)\n",
        "\n",
        "        # Rellenar la lista fc con tantos valores como haya en la lista n\n",
        "        fc = [valor_fc] * len(n)\n",
        "    elif flujos_constantes == \"n\":\n",
        "        # Solicitar al usuario el número de valores a ingresar\n",
        "        num_valores = int(input(\"¿Cuántos valores desea ingresar?: \"))\n",
        "\n",
        "        # Solicitar al usuario el valor de fc y n\n",
        "        for i in range(num_valores):\n",
        "            valor_fc = float(input(\"Ingrese el flujo de capital (fc): \"))\n",
        "            valor_n = int(input(\"Ingrese el número de períodos (t): \"))\n",
        "            fc.append(valor_fc)\n",
        "            n.append(valor_n)\n",
        "    else:\n",
        "        print(\"Ingrese un valor válido (s/n)\")\n",
        "        return  # Sale de la función si la entrada no es válida\n",
        "\n",
        "    if fc and n:  # Verificar si las listas no están vacías\n",
        "        tasa_retorno = float(input(\"Ingrese la tasa de retorno en tanto por ciento (r): \"))\n",
        "\n",
        "        # Crear un diccionario con los datos de las listas\n",
        "        data = {'Número de períodos (t)': n, 'Flujo de Capital (fc)': fc}\n",
        "\n",
        "        # Crear una tabla con pandas\n",
        "        df = pd.DataFrame(data)\n",
        "\n",
        "        # Calcular el valor presente (PV) para cada una de las filas en el DataFrame\n",
        "        df['Valor Presente (vp)'] = df['Flujo de Capital (fc)'] * (1 + tasa_retorno)**(-df['Número de períodos (t)'])\n",
        "\n",
        "        # Imprimir la tabla sin el índice\n",
        "        print(\"\\n\")\n",
        "        print(df.to_string(index=False))\n",
        "\n",
        "        # Sumar los valores en la última columna (Valor Presente)\n",
        "        vp_total = df['Valor Presente (vp)'].sum()\n",
        "\n",
        "        # Imprimir el resultado\n",
        "        print(\"\\n\")\n",
        "        print(f\"El valor presente total es: \\033[1m{vp_total}\\033[0m\")\n",
        "    else:\n",
        "        print(\"No se ingresaron valores válidos para continuar el cálculo.\")"
      ],
      "metadata": {
        "id": "fsE_qewq_Tf7"
      },
      "execution_count": 131,
      "outputs": []
    },
    {
      "cell_type": "markdown",
      "source": [
        "###DESARROLLO"
      ],
      "metadata": {
        "id": "tdveUJuqAfjS"
      }
    },
    {
      "cell_type": "code",
      "source": [
        "calcular_valor_presente()"
      ],
      "metadata": {
        "colab": {
          "base_uri": "https://localhost:8080/"
        },
        "id": "Z87cYekb98PZ",
        "outputId": "cd1d0045-ab47-4187-c6c4-d0e87d582a2b"
      },
      "execution_count": 130,
      "outputs": [
        {
          "output_type": "stream",
          "name": "stdout",
          "text": [
            "¿Los flujos son constantes? (s/n): N\n",
            "¿Cuántos valores desea ingresar?: 4\n",
            "Ingrese el flujo de capital (fc): 100\n",
            "Ingrese el número de períodos (t): 1\n",
            "Ingrese el flujo de capital (fc): 300\n",
            "Ingrese el número de períodos (t): 2\n",
            "Ingrese el flujo de capital (fc): 200\n",
            "Ingrese el número de períodos (t): 3\n",
            "Ingrese el flujo de capital (fc): 200\n",
            "Ingrese el número de períodos (t): 4\n",
            "Ingrese la tasa de retorno en tanto por ciento (r): 0.14\n",
            "\n",
            "\n",
            " Número de períodos (t)  Flujo de Capital (fc)  Valor Presente (vp)\n",
            "                      1                  100.0            87.719298\n",
            "                      2                  300.0           230.840259\n",
            "                      3                  200.0           134.994303\n",
            "                      4                  200.0           118.416055\n",
            "\n",
            "\n",
            "El valor presente total es: \u001b[1m571.9699155011447\u001b[0m\n"
          ]
        }
      ]
    },
    {
      "cell_type": "markdown",
      "source": [
        "##EJERCICIO 2\n",
        "2)\tNos proponen una inversión que cuesta 100,000 Lps, y dentro de 3 años producirá un ingreso de 200,000 Lps. Se espera que durante los próximos 3 años la inflación promedio será de 10% anual. Explique si convendría hacer la inversión, use el cálculo de la tasa de retorno."
      ],
      "metadata": {
        "id": "R2aWmyBhyQlE"
      }
    },
    {
      "cell_type": "markdown",
      "source": [
        "###CALCULADORA DE VARIABLES"
      ],
      "metadata": {
        "id": "EODJ_zZc5myY"
      }
    },
    {
      "cell_type": "code",
      "source": [
        "import math\n",
        "\n",
        "def calcular_t(FV, PV, r):\n",
        "    t = math.log(FV / PV) / math.log(1 + r)\n",
        "    return t\n",
        "\n",
        "def calcular_r(FC, VP, t):\n",
        "    r = (FC / VP) ** (1/t) - 1\n",
        "    return r * 100  # Multiplicar por 100 para obtener el resultado en porcentaje\n",
        "\n",
        "def calcular_VP(FC, r, t):\n",
        "    VP = FC / ((1 + r) ** t)\n",
        "    return VP\n",
        "\n",
        "def calcular_FC(VP, r, t):\n",
        "    FC = VP * ((1 + r) ** t)\n",
        "    return FC\n",
        "\n",
        "def calcular_valor(opcion_calculo):\n",
        "    if opcion_calculo == 'VP':\n",
        "        FC = float(input(\"Ingrese el flujo de capital (FC): \"))\n",
        "        tasa_interes = float(input(\"Ingrese la tasa de interés por período (r): \"))\n",
        "        periodos = int(input(\"Ingrese el número de períodos (t): \"))\n",
        "\n",
        "        valor_calculado = calcular_VP(FC, tasa_interes, periodos)\n",
        "        print(f\"El Valor Presente (VP) es: {valor_calculado:.2f}\")\n",
        "\n",
        "    elif opcion_calculo == 'FC':\n",
        "        VP = float(input(\"Ingrese el valor presente (VP): \"))\n",
        "        tasa_interes = float(input(\"Ingrese la tasa de interés por período (r): \"))\n",
        "        periodos = int(input(\"Ingrese el número de períodos (t): \"))\n",
        "\n",
        "        valor_calculado = calcular_FC(VP, tasa_interes, periodos)\n",
        "        print(f\"El Flujo de Capital (FC) es: {valor_calculado:.2f}\")\n",
        "\n",
        "    elif opcion_calculo == 'T':\n",
        "        FV = float(input(\"Ingrese el valor futuro (FV): \"))\n",
        "        PV = float(input(\"Ingrese el valor presente (VP): \"))\n",
        "        tasa_interes = float(input(\"Ingrese la tasa de interés por período (r): \"))\n",
        "\n",
        "        valor_calculado = calcular_t(FV, PV, tasa_interes)\n",
        "        print(f\"Número de períodos necesarios: {valor_calculado:.2f}\")\n",
        "\n",
        "    elif opcion_calculo == 'R':\n",
        "        FC = float(input(\"Ingrese el flujo de capital (FC): \"))\n",
        "        VP = float(input(\"Ingrese el valor presente (VP): \"))\n",
        "        periodos = int(input(\"Ingrese el número de períodos (t): \"))\n",
        "\n",
        "        valor_calculado = calcular_r(FC, VP, periodos)\n",
        "        print(f\"Tasa de interés por período: \\033[1m{valor_calculado:.4f}%\\033[0m\")\n",
        "\n",
        "    else:\n",
        "        print(\"Opción no válida. Por favor, ingrese 'VP', 'FC', 't' o 'r'.\")\n",
        "\n",
        "def calcular_valor_variable():\n",
        "    # Solicitar al usuario la opción de cálculo\n",
        "    opcion_calculo = input(\"Ingrese la opción a calcular ('VP', 'FC', 'T' o 'r'): \").upper()\n",
        "\n",
        "    # Llamar a la función correspondiente según la opción proporcionada\n",
        "    calcular_valor(opcion_calculo)"
      ],
      "metadata": {
        "id": "axHQLPhWBcQ-"
      },
      "execution_count": 138,
      "outputs": []
    },
    {
      "cell_type": "markdown",
      "source": [
        "###DESARROLLO"
      ],
      "metadata": {
        "id": "m46LSTNG5y3v"
      }
    },
    {
      "cell_type": "code",
      "source": [
        "calcular_valor_variable()"
      ],
      "metadata": {
        "colab": {
          "base_uri": "https://localhost:8080/"
        },
        "id": "asrWJXcNBwqc",
        "outputId": "d862230f-b53b-4000-b2ed-6e48d3764ba0"
      },
      "execution_count": 135,
      "outputs": [
        {
          "output_type": "stream",
          "name": "stdout",
          "text": [
            "Ingrese la opción de cálculo ('VP', 'FC', 'T' o 'r'): r\n",
            "Ingrese el flujo de capital (FC): 200000\n",
            "Ingrese el valor presente (VP): 100000\n",
            "Ingrese el número de períodos (t): 3\n",
            "Tasa de interés por período: \u001b[1m25.9921%\u001b[0m\n"
          ]
        }
      ]
    },
    {
      "cell_type": "markdown",
      "source": [
        "##EJERCICIO 3\n",
        "\n",
        "Un bono promete pagar &dollar;100 en 5 años cuesta $70. ¿Cuál es el rendimiento al vencimiento del bono?"
      ],
      "metadata": {
        "id": "WyxXgIo5DSoq"
      }
    },
    {
      "cell_type": "code",
      "source": [
        "calcular_valor_variable()"
      ],
      "metadata": {
        "colab": {
          "base_uri": "https://localhost:8080/"
        },
        "id": "d6JDdilnDiR3",
        "outputId": "a0615e22-f094-420d-99fd-24e06970aa61"
      },
      "execution_count": 139,
      "outputs": [
        {
          "output_type": "stream",
          "name": "stdout",
          "text": [
            "Ingrese la opción a calcular ('VP', 'FC', 'T' o 'r'): r\n",
            "Ingrese el flujo de capital (FC): 100\n",
            "Ingrese el valor presente (VP): 70\n",
            "Ingrese el número de períodos (t): 5\n",
            "Tasa de interés por período: \u001b[1m7.3941%\u001b[0m\n"
          ]
        }
      ]
    },
    {
      "cell_type": "markdown",
      "source": [
        "##EJERCICIO 4\n",
        "\n",
        "En la compra de una casa, se pagan &dollar;100,000 hoy, y los restantes $150,000 se pagarán en cuotas de &dollar;50,000 al final de cada uno de los próximos 3 años. ¿Cuál es el valor presente de la casa si se asume que el dueño puede obtener un rendimiento anual de 12%?"
      ],
      "metadata": {
        "id": "OYoXC0LuEKaw"
      }
    },
    {
      "cell_type": "code",
      "source": [
        "calcular_valor_presente()"
      ],
      "metadata": {
        "colab": {
          "base_uri": "https://localhost:8080/"
        },
        "id": "-LJrDKhMEUdr",
        "outputId": "03cd580b-1eb8-429b-9f11-8dd7710c369c"
      },
      "execution_count": 140,
      "outputs": [
        {
          "output_type": "stream",
          "name": "stdout",
          "text": [
            "¿Los flujos son constantes? (s/n): n\n",
            "¿Cuántos valores desea ingresar?: 4\n",
            "Ingrese el flujo de capital (fc): 100000\n",
            "Ingrese el número de períodos (t): 1\n",
            "Ingrese el flujo de capital (fc): 50000\n",
            "Ingrese el número de períodos (t): 2\n",
            "Ingrese el flujo de capital (fc): 50000\n",
            "Ingrese el número de períodos (t): 3\n",
            "Ingrese el flujo de capital (fc): 50000\n",
            "Ingrese el número de períodos (t): 4\n",
            "Ingrese la tasa de retorno en tanto por ciento (r): 0.12\n",
            "\n",
            "\n",
            " Número de períodos (t)  Flujo de Capital (fc)  Valor Presente (vp)\n",
            "                      1               100000.0         89285.714286\n",
            "                      2                50000.0         39859.693878\n",
            "                      3                50000.0         35589.012391\n",
            "                      4                50000.0         31775.903920\n",
            "\n",
            "\n",
            "El valor presente total es: \u001b[1m196510.32447417738\u001b[0m\n"
          ]
        }
      ]
    },
    {
      "cell_type": "markdown",
      "source": [
        "##EJERCICIO 5\n",
        "\n",
        "5)\tEn la compra de una casa, se pagan &dollar;100,000 hoy, y los restantes &dollar;150,000 se pagarán en un pago dentro de 3 años. ¿Cuál es el valor presente de la casa si el dueño puede obtener un rendimiento anual de 10%?"
      ],
      "metadata": {
        "id": "OxFSM82zFEfZ"
      }
    },
    {
      "cell_type": "code",
      "source": [
        "calcular_valor_presente()"
      ],
      "metadata": {
        "colab": {
          "base_uri": "https://localhost:8080/"
        },
        "id": "rIi2a_M2FL0-",
        "outputId": "e42163c7-d358-4ef7-d9bb-ea8e50a47a92"
      },
      "execution_count": 142,
      "outputs": [
        {
          "output_type": "stream",
          "name": "stdout",
          "text": [
            "¿Los flujos son constantes? (s/n): n\n",
            "¿Cuántos valores desea ingresar?: 2\n",
            "Ingrese el flujo de capital (fc): 100000\n",
            "Ingrese el número de períodos (t): 1\n",
            "Ingrese el flujo de capital (fc): 150000\n",
            "Ingrese el número de períodos (t): 3\n",
            "Ingrese la tasa de retorno en tanto por ciento (r): 0.10\n",
            "\n",
            "\n",
            " Número de períodos (t)  Flujo de Capital (fc)  Valor Presente (vp)\n",
            "                      1               100000.0         90909.090909\n",
            "                      3               150000.0        112697.220135\n",
            "\n",
            "\n",
            "El valor presente total es: \u001b[1m203606.31104432754\u001b[0m\n"
          ]
        }
      ]
    },
    {
      "cell_type": "markdown",
      "source": [
        "##EJERCICIO 6\n",
        " Imagine que deposita  &dollar;6,000 al año, comenzando un año a partir de hoy, durante los siguientes cuatro años en una cuenta de ahorros pagando 6% por año. (Eso es un depósito de $ 6,000 por año). ¿Cuánto dinero tendrá inmediatamente después de hacer su último depósito?"
      ],
      "metadata": {
        "id": "Uk_V3M_h0pqO"
      }
    },
    {
      "cell_type": "code",
      "source": [
        "calcular_valor_presente()"
      ],
      "metadata": {
        "colab": {
          "base_uri": "https://localhost:8080/"
        },
        "id": "xst1HbnQE2Rt",
        "outputId": "09757d74-0459-4654-b5d3-2c07f9853c57"
      },
      "execution_count": 141,
      "outputs": [
        {
          "output_type": "stream",
          "name": "stdout",
          "text": [
            "¿Los flujos son constantes? (s/n): s\n",
            "Ingrese el valor del flujo constante: 6000\n",
            "¿Cuántos valores de t desea ingresar?: 4\n",
            "Ingrese el número de períodos (t): 1\n",
            "Ingrese el número de períodos (t): 2\n",
            "Ingrese el número de períodos (t): 3\n",
            "Ingrese el número de períodos (t): 4\n",
            "Ingrese la tasa de retorno en tanto por ciento (r): 0.06\n",
            "\n",
            "\n",
            " Número de períodos (t)  Flujo de Capital (fc)  Valor Presente (vp)\n",
            "                      1                 6000.0          5660.377358\n",
            "                      2                 6000.0          5339.978640\n",
            "                      3                 6000.0          5037.715698\n",
            "                      4                 6000.0          4752.561979\n",
            "\n",
            "\n",
            "El valor presente total es: \u001b[1m20790.633676197936\u001b[0m\n"
          ]
        }
      ]
    },
    {
      "cell_type": "markdown",
      "source": [
        "##EJERCICIO 7\n",
        "¿Cuál es el valor actual (es decir, el precio actual) de un bono que pagará a su propietario $ 1,000,000 dentro de cinco años si la tasa de descuento es del 4% anual? (Esto se llama un cupón cero o un bono de descuento puro)"
      ],
      "metadata": {
        "id": "lSSF_J7bF1ni"
      }
    },
    {
      "cell_type": "code",
      "source": [
        "calcular_valor_presente()"
      ],
      "metadata": {
        "colab": {
          "base_uri": "https://localhost:8080/"
        },
        "id": "9x9Ck4lyGAcM",
        "outputId": "50d69efd-3926-4f51-ba61-12a9bdac0705"
      },
      "execution_count": 143,
      "outputs": [
        {
          "output_type": "stream",
          "name": "stdout",
          "text": [
            "¿Los flujos son constantes? (s/n): s\n",
            "Ingrese el valor del flujo constante: 1000000\n",
            "¿Cuántos valores de t desea ingresar?: 1\n",
            "Ingrese el número de períodos (t): 5\n",
            "Ingrese la tasa de retorno en tanto por ciento (r): 0.04\n",
            "\n",
            "\n",
            " Número de períodos (t)  Flujo de Capital (fc)  Valor Presente (vp)\n",
            "                      5              1000000.0        821927.106759\n",
            "\n",
            "\n",
            "El valor presente total es: \u001b[1m821927.1067593517\u001b[0m\n"
          ]
        }
      ]
    },
    {
      "cell_type": "markdown",
      "source": [
        "##EJERCICIO 8\n",
        "Si se tiene una tasa de interés de 8.5% anual. Y se cuenta una tasa de inflación de 6.6% promedio anual.  "
      ],
      "metadata": {
        "id": "kBBpDQS5GZz_"
      }
    },
    {
      "cell_type": "markdown",
      "source": [
        "###CALCULADORA"
      ],
      "metadata": {
        "id": "lUoMSU4kZph9"
      }
    },
    {
      "cell_type": "code",
      "source": [
        "def calcular_tasas():\n",
        "    \"\"\"\n",
        "    Pregunta al usuario qué desea calcular, solicita las tasas y realiza el cálculo.\n",
        "\n",
        "    Retorna:\n",
        "    Un diccionario con los resultados: {\"RR\": RR_calculado, \"R\": R_calculado, \"i\": i_calculado}\n",
        "    \"\"\"\n",
        "    opcion = input(\"¿Qué deseas calcular? (RR, R ó i): \")\n",
        "\n",
        "    try:\n",
        "        if opcion not in [\"RR\", \"R\", \"i\"]:\n",
        "            raise ValueError(\"Por favor, ingrese una opción válida (RR, R ó i).\")\n",
        "\n",
        "        if opcion == \"RR\":\n",
        "            R = float(input(\"Ingrese la tasa de rendimiento (R): \"))\n",
        "            i = float(input(\"Ingrese la tasa de interés (i): \"))\n",
        "            RR_calculado = calcular_rr(R, i)\n",
        "            resultados = {\"RR\": RR_calculado}\n",
        "        elif opcion == \"R\":\n",
        "            RR = float(input(\"Ingrese la tasa de retorno ajustada (RR): \"))\n",
        "            i = float(input(\"Ingrese la tasa de interés (i): \"))\n",
        "            R_calculado = calcular_R(RR, i)\n",
        "            resultados = {\"R\": R_calculado}\n",
        "        elif opcion == \"i\":\n",
        "            R = float(input(\"Ingrese la tasa de rendimiento (R): \"))\n",
        "            RR = float(input(\"Ingrese la tasa de retorno ajustada (RR): \"))\n",
        "            i_calculado = calcular_i(RR, R)\n",
        "            resultados = {\"i\": i_calculado * 100}\n",
        "    except ValueError as e:\n",
        "        print(str(e))\n",
        "        return\n",
        "\n",
        "    return resultados"
      ],
      "metadata": {
        "id": "PFCudU5nJl7N"
      },
      "execution_count": 199,
      "outputs": []
    },
    {
      "cell_type": "markdown",
      "source": [
        "###DESARROLLO"
      ],
      "metadata": {
        "id": "lv0ljyBZZxwR"
      }
    },
    {
      "cell_type": "code",
      "source": [
        "calcular_tasas()"
      ],
      "metadata": {
        "colab": {
          "base_uri": "https://localhost:8080/"
        },
        "id": "LamE2sbaXocg",
        "outputId": "56d854f9-5061-48cb-cb7e-240071965750"
      },
      "execution_count": 203,
      "outputs": [
        {
          "name": "stdout",
          "output_type": "stream",
          "text": [
            "¿Qué deseas calcular? (RR, R ó i): RR\n",
            "Ingrese la tasa de rendimiento (R): 0.085\n",
            "Ingrese la tasa de interés (i): 0.066\n"
          ]
        },
        {
          "output_type": "execute_result",
          "data": {
            "text/plain": [
              "{'RR': 0.017823639774859235}"
            ]
          },
          "metadata": {},
          "execution_count": 203
        }
      ]
    },
    {
      "cell_type": "markdown",
      "source": [
        "##EJERCICIO 9\n",
        "\n",
        "Si se tiene una tasa de interés de 7.5% anual. Y se cuenta una tasa de inflación de 4.6% promedio anual.  "
      ],
      "metadata": {
        "id": "1pkMy4NaaOYp"
      }
    },
    {
      "cell_type": "markdown",
      "source": [
        "### b ¿Cuál es la tasa real de interés?"
      ],
      "metadata": {
        "id": "mt0M8hKJazvG"
      }
    },
    {
      "cell_type": "code",
      "source": [
        "calcular_tasas()"
      ],
      "metadata": {
        "colab": {
          "base_uri": "https://localhost:8080/"
        },
        "id": "O_LcAj8TaUIp",
        "outputId": "fbf3ae4e-1c6c-46a4-f31d-9bfc753850b6"
      },
      "execution_count": 209,
      "outputs": [
        {
          "name": "stdout",
          "output_type": "stream",
          "text": [
            "¿Qué deseas calcular? (RR, R ó i): RR\n",
            "Ingrese la tasa de rendimiento (R): 0.075\n",
            "Ingrese la tasa de interés (i): 0.046\n"
          ]
        },
        {
          "output_type": "execute_result",
          "data": {
            "text/plain": [
              "{'RR': 0.027724665391969383}"
            ]
          },
          "metadata": {},
          "execution_count": 209
        }
      ]
    },
    {
      "cell_type": "markdown",
      "source": [
        "### c ¿Cuánto debería ahorrar una persona hoy, si quiere recibir 100,000 Lps en cada uno de los próximos 4 años? (manteniendo el poder adquisitivo del dinero) Use la tasa real de interés en lugar de la tasa nominal, para mantener el poder adquisitivo."
      ],
      "metadata": {
        "id": "usE_qrqCcAJ3"
      }
    },
    {
      "cell_type": "code",
      "source": [
        "calcular_valor_presente()"
      ],
      "metadata": {
        "colab": {
          "base_uri": "https://localhost:8080/"
        },
        "id": "ziA75yr3cJQI",
        "outputId": "8e017860-4b57-4c63-fd30-d00044e8f288"
      },
      "execution_count": 208,
      "outputs": [
        {
          "output_type": "stream",
          "name": "stdout",
          "text": [
            "¿Los flujos son constantes? (s/n): S\n",
            "Ingrese el valor del flujo constante: 100000\n",
            "¿Cuántos valores de t desea ingresar?: 4\n",
            "Ingrese el número de períodos (t): 1\n",
            "Ingrese el número de períodos (t): 2\n",
            "Ingrese el número de períodos (t): 3\n",
            "Ingrese el número de períodos (t): 4\n",
            "Ingrese la tasa de retorno en tanto por ciento (r): 0.027724665391969383\n",
            "\n",
            "\n",
            " Número de períodos (t)  Flujo de Capital (fc)  Valor Presente (vp)\n",
            "                      1               100000.0         97302.325581\n",
            "                      2               100000.0         94677.425635\n",
            "                      3               100000.0         92123.336944\n",
            "                      4               100000.0         89638.149250\n",
            "\n",
            "\n",
            "El valor presente total es: \u001b[1m373741.23741040676\u001b[0m\n"
          ]
        }
      ]
    },
    {
      "cell_type": "markdown",
      "source": [
        "###d ¿Cuánto recibirá de interés en cada uno de los próximos 4 años?"
      ],
      "metadata": {
        "id": "w85lI8wXE3I7"
      }
    },
    {
      "cell_type": "markdown",
      "source": [
        "####CALCULADORA"
      ],
      "metadata": {
        "id": "MUGJujeoaXCI"
      }
    },
    {
      "cell_type": "code",
      "source": [
        "import pandas as pd\n",
        "\n",
        "def calcular_intereses():\n",
        "    # Solicitar al usuario el primer valor de Saldo después de Retiro, la tasa de interés y el número de periodos\n",
        "    primer_saldo_despues_retiro = float(input(\"Ingrese el primer valor de Saldo después de Retiro: \"))\n",
        "    tasa_interes = float(input(\"Ingrese la tasa de interés: \"))\n",
        "    num_periodos = int(input(\"Ingrese el número de periodos o filas que desea: \"))\n",
        "\n",
        "    # Crear DataFrame sin índice\n",
        "    df = pd.DataFrame(columns=['Años', 'Intereses', 'Saldo antes de Retiro', 'Retiro', 'Saldo después de Retiro'])\n",
        "\n",
        "    # Agregar la primera fila con el Saldo después de Retiro ingresado por el usuario\n",
        "    df.loc[0] = [1, 0, 0, 0, primer_saldo_despues_retiro]\n",
        "\n",
        "    # Agregar filas con valores calculados y solicitar retiros\n",
        "    for i in range(1, num_periodos):\n",
        "        retiro = float(input(f\"Ingrese el valor de retiro para el año {i + 1}: \"))\n",
        "\n",
        "        saldo_anterior = df.loc[i - 1, 'Saldo después de Retiro']\n",
        "        intereses = saldo_anterior * tasa_interes\n",
        "        saldo_antes_retiro = saldo_anterior + intereses\n",
        "\n",
        "        # Sustraer la cantidad del retiro al Saldo antes de Retiro\n",
        "        saldo_despues_retiro = saldo_antes_retiro - retiro\n",
        "\n",
        "        # Agregar una nueva fila al DataFrame\n",
        "        df.loc[i] = [i + 1, intereses, saldo_antes_retiro, retiro, saldo_despues_retiro]\n",
        "\n",
        "    # Mostrar el DataFrame sin la columna de índices\n",
        "    print(\"\\n\")\n",
        "    print(df.to_string(index=False))\n",
        "\n",
        "    # Calcular y mostrar la suma de la columna 'Intereses'\n",
        "    suma_intereses = df['Intereses'].sum()\n",
        "    print(f\"\\nLa suma de los 'Intereses' es: {suma_intereses}\")"
      ],
      "metadata": {
        "id": "tZmROePuZTSQ"
      },
      "execution_count": 31,
      "outputs": []
    },
    {
      "cell_type": "markdown",
      "source": [
        "####DESARROLLO"
      ],
      "metadata": {
        "id": "wrFqV5GQaR3l"
      }
    },
    {
      "cell_type": "code",
      "source": [
        "calcular_intereses()"
      ],
      "metadata": {
        "colab": {
          "base_uri": "https://localhost:8080/"
        },
        "id": "d4v4a7f9ZTOp",
        "outputId": "db9b4bb4-5fac-4c56-d6ce-60120d3b2c5d"
      },
      "execution_count": 32,
      "outputs": [
        {
          "output_type": "stream",
          "name": "stdout",
          "text": [
            "Ingrese el primer valor de Saldo después de Retiro: 373741.24\n",
            "Ingrese la tasa de interés: 0.027725\n",
            "Ingrese el número de periodos o filas que desea: 5\n",
            "Ingrese el valor de retiro para el año 2: 100000\n",
            "Ingrese el valor de retiro para el año 3: 100000\n",
            "Ingrese el valor de retiro para el año 4: 100000\n",
            "Ingrese el valor de retiro para el año 5: 100000\n",
            "\n",
            "\n",
            " Años    Intereses  Saldo antes de Retiro   Retiro  Saldo después de Retiro\n",
            "  1.0     0.000000               0.000000      0.0            373741.240000\n",
            "  2.0 10361.975879          384103.215879 100000.0            284103.215879\n",
            "  3.0  7876.761660          291979.977539 100000.0            191979.977539\n",
            "  4.0  5322.644877          197302.622417 100000.0             97302.622417\n",
            "  5.0  2697.715206          100000.337623 100000.0                 0.337623\n",
            "\n",
            "La suma de los 'Intereses' es: 26259.09762301889\n"
          ]
        }
      ]
    }
  ]
}